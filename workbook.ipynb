{
 "cells": [
  {
   "cell_type": "code",
   "execution_count": 1,
   "metadata": {},
   "outputs": [
    {
     "name": "stderr",
     "output_type": "stream",
     "text": [
      "2024-10-12 21:20:04,260 - INFO - Retrieved recent videos and transcripts.\n"
     ]
    },
    {
     "name": "stdout",
     "output_type": "stream",
     "text": [
      "Connecting to SMTP server...\n",
      "TLS started. Attempting login...\n",
      "Login successful.\n",
      "Email sent successfully to all recipients.\n",
      "SMTP connection closed.\n"
     ]
    }
   ],
   "source": [
    "from youtube_scraper import main\n",
    "from twitter_thread_prompt import create_twitter_thread_prompt\n",
    "from openai_module import get_openai_completion\n",
    "from email_sender import send_daily_digest\n",
    "import pandas as pd\n",
    "\n",
    "if __name__ == \"__main__\":\n",
    "    # youtube_handles = ['backstagewithmillionaires', 'mreflow']\n",
    "    youtube_handles = ['tahirmajithia', 'rebelagent1223', 'walikhanenglish']\n",
    "    recent_videos_df = main(youtube_handles, hours=24)\n",
    "\n",
    "    # Generating the prompt from transcript\n",
    "    recent_videos_df['twitterThreadPrompt'] = recent_videos_df['videoTranscript'].apply(lambda x: create_twitter_thread_prompt(x))\n",
    "\n",
    "    # # Generating the thread using OpenAI\n",
    "    # recent_videos_df['twitterThread'] = recent_videos_df['twitterThreadPrompt'].apply(lambda x: get_openai_completion(x))\n",
    "\n",
    "    recent_videos_df = pd.read_csv('demodata1.csv')\n",
    "\n",
    "    # Sending the daily email digest\n",
    "    send_daily_digest(recent_videos_df, [\"mdnishan006@gmail.com\", 'mnsn.n006@gmail.com'])\n"
   ]
  },
  {
   "cell_type": "code",
   "execution_count": 3,
   "metadata": {},
   "outputs": [
    {
     "data": {
      "text/html": [
       "<div>\n",
       "<style scoped>\n",
       "    .dataframe tbody tr th:only-of-type {\n",
       "        vertical-align: middle;\n",
       "    }\n",
       "\n",
       "    .dataframe tbody tr th {\n",
       "        vertical-align: top;\n",
       "    }\n",
       "\n",
       "    .dataframe thead th {\n",
       "        text-align: right;\n",
       "    }\n",
       "</style>\n",
       "<table border=\"1\" class=\"dataframe\">\n",
       "  <thead>\n",
       "    <tr style=\"text-align: right;\">\n",
       "      <th></th>\n",
       "      <th>videoPublishTime</th>\n",
       "      <th>videoID</th>\n",
       "      <th>videoTitle</th>\n",
       "      <th>handle</th>\n",
       "      <th>videoTranscript</th>\n",
       "      <th>twitterThreadPrompt</th>\n",
       "      <th>twitterThread</th>\n",
       "    </tr>\n",
       "  </thead>\n",
       "  <tbody>\n",
       "    <tr>\n",
       "      <th>0</th>\n",
       "      <td>3 hours ago</td>\n",
       "      <td>clHjVH6sgDY</td>\n",
       "      <td>Bhavish Aggarwal Made a Big Mistake - Indian S...</td>\n",
       "      <td>backstagewithmillionaires</td>\n",
       "      <td>this one tweet cost bagwell's Ola electric 3,5...</td>\n",
       "      <td>You are a tech influencer known for your enthu...</td>\n",
       "      <td>1/7 🚀 Big news in the world of electric vehicl...</td>\n",
       "    </tr>\n",
       "    <tr>\n",
       "      <th>1</th>\n",
       "      <td>16 hours ago</td>\n",
       "      <td>j4-HA91MgUw</td>\n",
       "      <td>AI News: Futuristic Robotaxis &amp; AI That Can Ta...</td>\n",
       "      <td>mreflow</td>\n",
       "      <td>compared to other weeks it's been a relatively...</td>\n",
       "      <td>You are a tech influencer known for your enthu...</td>\n",
       "      <td>1/7 🚗 Exciting times for AI and transportation...</td>\n",
       "    </tr>\n",
       "  </tbody>\n",
       "</table>\n",
       "</div>"
      ],
      "text/plain": [
       "  videoPublishTime      videoID  \\\n",
       "0      3 hours ago  clHjVH6sgDY   \n",
       "1     16 hours ago  j4-HA91MgUw   \n",
       "\n",
       "                                          videoTitle  \\\n",
       "0  Bhavish Aggarwal Made a Big Mistake - Indian S...   \n",
       "1  AI News: Futuristic Robotaxis & AI That Can Ta...   \n",
       "\n",
       "                      handle  \\\n",
       "0  backstagewithmillionaires   \n",
       "1                    mreflow   \n",
       "\n",
       "                                     videoTranscript  \\\n",
       "0  this one tweet cost bagwell's Ola electric 3,5...   \n",
       "1  compared to other weeks it's been a relatively...   \n",
       "\n",
       "                                 twitterThreadPrompt  \\\n",
       "0  You are a tech influencer known for your enthu...   \n",
       "1  You are a tech influencer known for your enthu...   \n",
       "\n",
       "                                       twitterThread  \n",
       "0  1/7 🚀 Big news in the world of electric vehicl...  \n",
       "1  1/7 🚗 Exciting times for AI and transportation...  "
      ]
     },
     "execution_count": 3,
     "metadata": {},
     "output_type": "execute_result"
    }
   ],
   "source": [
    "recent_videos_df"
   ]
  },
  {
   "cell_type": "code",
   "execution_count": null,
   "metadata": {},
   "outputs": [],
   "source": []
  }
 ],
 "metadata": {
  "kernelspec": {
   "display_name": "contentgenyt",
   "language": "python",
   "name": "python3"
  },
  "language_info": {
   "codemirror_mode": {
    "name": "ipython",
    "version": 3
   },
   "file_extension": ".py",
   "mimetype": "text/x-python",
   "name": "python",
   "nbconvert_exporter": "python",
   "pygments_lexer": "ipython3",
   "version": "3.12.6"
  }
 },
 "nbformat": 4,
 "nbformat_minor": 2
}
