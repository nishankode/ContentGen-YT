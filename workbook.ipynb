{
 "cells": [
  {
   "cell_type": "code",
   "execution_count": 1,
   "metadata": {},
   "outputs": [
    {
     "name": "stderr",
     "output_type": "stream",
     "text": [
      "2024-10-12 23:14:50,862 - INFO - Retrieved recent videos and transcripts.\n",
      "2024-10-12 23:14:57,118 - INFO - HTTP Request: POST https://api.openai.com/v1/chat/completions \"HTTP/1.1 200 OK\"\n",
      "2024-10-12 23:15:02,425 - INFO - HTTP Request: POST https://api.openai.com/v1/chat/completions \"HTTP/1.1 200 OK\"\n",
      "2024-10-12 23:15:04,737 - INFO - Retrieved recent videos and transcripts.\n",
      "2024-10-12 23:15:10,544 - INFO - HTTP Request: POST https://api.openai.com/v1/chat/completions \"HTTP/1.1 200 OK\"\n",
      "2024-10-12 23:15:15,731 - INFO - HTTP Request: POST https://api.openai.com/v1/chat/completions \"HTTP/1.1 200 OK\"\n",
      "2024-10-12 23:15:15,733 - INFO - Loaded email credentials for: nishansocial1@gmail.com\n",
      "2024-10-12 23:15:15,734 - INFO - Connecting to SMTP server...\n",
      "2024-10-12 23:15:16,496 - INFO - TLS started. Attempting login...\n",
      "2024-10-12 23:15:17,089 - INFO - Login successful.\n",
      "2024-10-12 23:15:18,593 - INFO - Email sent successfully to all recipients.\n",
      "2024-10-12 23:15:18,805 - INFO - SMTP connection closed.\n",
      "2024-10-12 23:15:18,806 - INFO - Loaded email credentials for: nishansocial1@gmail.com\n",
      "2024-10-12 23:15:18,807 - INFO - Connecting to SMTP server...\n",
      "2024-10-12 23:15:19,558 - INFO - TLS started. Attempting login...\n",
      "2024-10-12 23:15:20,158 - INFO - Login successful.\n",
      "2024-10-12 23:15:21,680 - INFO - Email sent successfully to all recipients.\n",
      "2024-10-12 23:15:21,893 - INFO - SMTP connection closed.\n"
     ]
    }
   ],
   "source": [
    "from youtube_scraper import scrape_youtube\n",
    "from twitter_thread_prompt import create_twitter_thread_prompt\n",
    "from openai_module import get_openai_completion\n",
    "from email_sender import send_daily_digest\n",
    "import pandas as pd\n",
    "import json\n",
    "\n",
    "if __name__ == \"__main__\":\n",
    "    # Load email and YouTube handle mappings from the JSON file\n",
    "\n",
    "    email_handles = {\n",
    "      \"mdnishan006@gmail.com\": [\"backstagewithmillionaires\", \"mreflow\"],\n",
    "      \"mnsn.n006@gmail.com\": [\"tahirmajithia\", \"rebelagent1223\", \"walikhanenglish\"\n",
    "      ]}\n",
    "\n",
    "\n",
    "    recent_videos_dfs = {}\n",
    "    \n",
    "    # Process each email and corresponding YouTube handles\n",
    "    for email, handles in email_handles.items():\n",
    "        recent_videos_df = scrape_youtube(handles, hours=24)\n",
    "\n",
    "        # Generating the prompt from transcript\n",
    "        recent_videos_df['twitterThreadPrompt'] = recent_videos_df['videoTranscript'].apply(lambda x: create_twitter_thread_prompt(x))\n",
    "\n",
    "        # Uncomment this line to generate the thread using OpenAI\n",
    "        recent_videos_df['twitterThread'] = recent_videos_df['twitterThreadPrompt'].apply(lambda x: get_openai_completion(x))\n",
    "\n",
    "        # Store the DataFrame with the corresponding email\n",
    "        recent_videos_dfs[email] = recent_videos_df\n",
    "\n",
    "    # Send the daily email digest for each email and corresponding DataFrame\n",
    "    for email, df in recent_videos_dfs.items():\n",
    "        send_daily_digest(df, [email])\n"
   ]
  },
  {
   "cell_type": "code",
   "execution_count": 4,
   "metadata": {},
   "outputs": [
    {
     "name": "stdout",
     "output_type": "stream",
     "text": [
      "1/7 Let's talk about something that’s rocking the boat in the EV world! Ola Electric's CEO, Bhavish Aggarwal, recently found himself in hot water after a comedian's tweet caused a major uproar. A simple pic of their gigafactory turned into a PR nightmare!\n",
      "\n",
      "2/7 The comedian Kunal Kamra highlighted a serious issue—Ola scooters piling up at service centers, gathering dust! His tweet resonated with many, leading to a flood of complaints about Ola's service. Yikes! Not the kind of attention a company wants, right?\n",
      "\n",
      "3/7 Instead of addressing customer concerns, Bhavish fired back, calling out Kamra and making personal digs. It’s wild to see a CEO more focused on throwing shade than fixing service issues. Come on, accountability is key! \n",
      "\n",
      "4/7 And let’s be real, this isn't just a one-off event. Complaints have been skyrocketing, with Ola seeing over 880,000 complaints monthly! Their service centers? Barely increased from 400 to 500. Customers are frustrated, and the heat is on.\n",
      "\n",
      "5/7 The government is stepping in! 🚨 They're launching an investigation, which could really put Ola on the spot. With over 10,000 complaints filed, it’s time for them to rise to the occasion and show they can handle customer grievances transparently.\n",
      "\n",
      "6/7 Bhavish announced plans to double service centers to 1,000 by the end of the year. But can he actually deliver this promise? The clock is ticking, and customer trust is on the line. \n",
      "\n",
      "7/7 This situation is a pivotal moment for Ola Electric! Will they bounce back and turn it around, or are we witnessing the beginning of major challenges for this EV giant? Drop your thoughts below!\n"
     ]
    }
   ],
   "source": [
    "print(recent_videos_dfs['mdnishan006@gmail.com']['twitterThread'].iloc[0])"
   ]
  },
  {
   "cell_type": "code",
   "execution_count": 5,
   "metadata": {},
   "outputs": [
    {
     "data": {
      "text/html": [
       "<div>\n",
       "<style scoped>\n",
       "    .dataframe tbody tr th:only-of-type {\n",
       "        vertical-align: middle;\n",
       "    }\n",
       "\n",
       "    .dataframe tbody tr th {\n",
       "        vertical-align: top;\n",
       "    }\n",
       "\n",
       "    .dataframe thead th {\n",
       "        text-align: right;\n",
       "    }\n",
       "</style>\n",
       "<table border=\"1\" class=\"dataframe\">\n",
       "  <thead>\n",
       "    <tr style=\"text-align: right;\">\n",
       "      <th></th>\n",
       "      <th>videoPublishTime</th>\n",
       "      <th>videoID</th>\n",
       "      <th>videoTitle</th>\n",
       "      <th>handle</th>\n",
       "      <th>videoTranscript</th>\n",
       "      <th>twitterThreadPrompt</th>\n",
       "      <th>twitterThread</th>\n",
       "    </tr>\n",
       "  </thead>\n",
       "  <tbody>\n",
       "    <tr>\n",
       "      <th>0</th>\n",
       "      <td>3 hours ago</td>\n",
       "      <td>Q_aJU-lHwgQ</td>\n",
       "      <td>WHAT DOES AN INTERIOR DESIGNER DO ? SARAH SHAM...</td>\n",
       "      <td>tahirmajithia</td>\n",
       "      <td>hey guys welcome to a brand new episode of the...</td>\n",
       "      <td>You are a tech influencer known for your enthu...</td>\n",
       "      <td>🧵 1/7 Dive into the world of interior design a...</td>\n",
       "    </tr>\n",
       "    <tr>\n",
       "      <th>1</th>\n",
       "      <td>13 hours ago</td>\n",
       "      <td>N8ED5y6mZic</td>\n",
       "      <td>Important Update For New Investors | Wali Khan...</td>\n",
       "      <td>walikhanenglish</td>\n",
       "      <td>so although I'm making this video a bit late b...</td>\n",
       "      <td>You are a tech influencer known for your enthu...</td>\n",
       "      <td>1/7 🚨 Big news in the world of finance! The Fe...</td>\n",
       "    </tr>\n",
       "  </tbody>\n",
       "</table>\n",
       "</div>"
      ],
      "text/plain": [
       "  videoPublishTime      videoID  \\\n",
       "0      3 hours ago  Q_aJU-lHwgQ   \n",
       "1     13 hours ago  N8ED5y6mZic   \n",
       "\n",
       "                                          videoTitle           handle  \\\n",
       "0  WHAT DOES AN INTERIOR DESIGNER DO ? SARAH SHAM...    tahirmajithia   \n",
       "1  Important Update For New Investors | Wali Khan...  walikhanenglish   \n",
       "\n",
       "                                     videoTranscript  \\\n",
       "0  hey guys welcome to a brand new episode of the...   \n",
       "1  so although I'm making this video a bit late b...   \n",
       "\n",
       "                                 twitterThreadPrompt  \\\n",
       "0  You are a tech influencer known for your enthu...   \n",
       "1  You are a tech influencer known for your enthu...   \n",
       "\n",
       "                                       twitterThread  \n",
       "0  🧵 1/7 Dive into the world of interior design a...  \n",
       "1  1/7 🚨 Big news in the world of finance! The Fe...  "
      ]
     },
     "execution_count": 5,
     "metadata": {},
     "output_type": "execute_result"
    }
   ],
   "source": [
    "recent_videos_dfs['mnsn.n006@gmail.com']"
   ]
  },
  {
   "cell_type": "code",
   "execution_count": null,
   "metadata": {},
   "outputs": [],
   "source": []
  }
 ],
 "metadata": {
  "kernelspec": {
   "display_name": "contentgenyt",
   "language": "python",
   "name": "python3"
  },
  "language_info": {
   "codemirror_mode": {
    "name": "ipython",
    "version": 3
   },
   "file_extension": ".py",
   "mimetype": "text/x-python",
   "name": "python",
   "nbconvert_exporter": "python",
   "pygments_lexer": "ipython3",
   "version": "3.11.5"
  }
 },
 "nbformat": 4,
 "nbformat_minor": 2
}
